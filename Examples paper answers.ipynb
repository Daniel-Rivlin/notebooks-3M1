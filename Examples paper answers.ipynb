{
 "cells": [
  {
   "cell_type": "markdown",
   "metadata": {},
   "source": [
    "# Examples paper answers\n",
    "\n",
    "These are the answers to examples paper questions that have a numerical answer."
   ]
  },
  {
   "cell_type": "code",
   "execution_count": 1,
   "metadata": {
    "collapsed": true
   },
   "outputs": [],
   "source": [
    "import math"
   ]
  },
  {
   "cell_type": "markdown",
   "metadata": {},
   "source": [
    "## Q1.\n",
    "  a. Column space\n",
    "\\begin{equation}\n",
    "    \\begin{bmatrix}\n",
    "    1    \\\\ 0.5  \\\\ -0.5\n",
    "    \\end{bmatrix}, \\\n",
    "    \\begin{bmatrix}\n",
    "    0 \\\\ 1 \\\\ 1\n",
    "    \\end{bmatrix}\n",
    "\\end{equation}    \n",
    "  b. Rows pace\n",
    "\\begin{equation}\n",
    "   \\begin{bmatrix}\n",
    "   2    \\\\ 4  \\\\ -2 \\\\ 2\n",
    "   \\end{bmatrix}, \\\n",
    "   \\begin{bmatrix}\n",
    "   0    \\\\ 1  \\\\ 1 \\\\ 1\n",
    "   \\end{bmatrix}\n",
    "\\end{equation}\n",
    "  c. Null space\n",
    "\\begin{equation}\n",
    "   \\begin{bmatrix}\n",
    "   3    \\\\ -1  \\\\ 1 \\\\ 0\n",
    "   \\end{bmatrix}, \\   \n",
    "   \\begin{bmatrix}\n",
    "   1    \\\\ -1  \\\\ 0 \\\\ 1\n",
    "   \\end{bmatrix}\n",
    "\\end{equation}\n",
    "    d. Left nullspave\n",
    "\\begin{equation}\n",
    "   x_{3} \\begin{bmatrix}\n",
    "   1    \\\\ -1  \\\\ 1\n",
    "   \\end{bmatrix}\n",
    "\\end{equation}"
   ]
  },
  {
   "cell_type": "markdown",
   "metadata": {},
   "source": [
    "## Q2. -\n",
    "\n",
    "## Q3. -\n",
    "\n",
    "## Q4. -\n",
    "\n",
    "## Q5. -\n",
    "\n",
    "## Q6. -\n",
    "\n",
    "## Q7.\n",
    "\n",
    "$\\|\\boldsymbol{A}\\|_{2} \\approx 5.1926$."
   ]
  },
  {
   "cell_type": "markdown",
   "metadata": {},
   "source": [
    "## Q8.\n",
    "\n",
    "$\\kappa_{2} = \\sqrt{3 + \\sqrt{5}}/\\sqrt{3 - \\sqrt{5}}$"
   ]
  },
  {
   "cell_type": "code",
   "execution_count": 2,
   "metadata": {
    "collapsed": false
   },
   "outputs": [
    {
     "name": "stdout",
     "output_type": "stream",
     "text": [
      "κ = 2.618033988749895\n"
     ]
    }
   ],
   "source": [
    "κ = math.sqrt(3 + math.sqrt(5))/math.sqrt(3 - math.sqrt(5))\n",
    "print(\"κ =\", κ)"
   ]
  },
  {
   "cell_type": "markdown",
   "metadata": {},
   "source": [
    "## Q9.\n",
    "\n",
    "a) $[0.11111, \\, 2.66667]$\n",
    "\n",
    "b) \n",
    "- $\\|\\boldsymbol{r} \\|_{1} = 1.11111111111$\n",
    "- $\\|\\boldsymbol{r} \\|_{2} = 0.666666666667$\n",
    "- $\\|\\boldsymbol{r} \\|_{\\infty} = 0.444444444444$\n",
    "\n",
    "c) $\\kappa(\\boldsymbol{A})_{2} = 5.85704316444$\n",
    "\n",
    "## Q.10. -\n",
    "\n",
    "## Q11. -\n",
    "\n",
    "# Q12. -\n",
    "\n",
    "## Q13.\n",
    "\n",
    "Will converge for Jacobi and Gauss-Seidel, but not for Richardson.\n",
    "\n",
    "## Q14.  -\n",
    "\n",
    "## Q15.\n",
    "\n",
    "a) Reduced SVD\n",
    "\\begin{equation}\n",
    "\\boldsymbol{U} =\n",
    "\\begin{bmatrix}\n",
    "-5.77350269e-01 &  7.07106781e-01 \\\\\n",
    "-5.77350269e-01 &  8.32667268e-17 \\\\\n",
    "-5.77350269e-01 & -7.07106781e-01\n",
    "\\end{bmatrix}\n",
    "\\end{equation}\n",
    "\n",
    "\\begin{equation}\n",
    "\\boldsymbol{\\Sigma} =\n",
    "\\begin{bmatrix}\n",
    "4.89897949 &  0 \\\\\n",
    "0 &   1.0\n",
    "\\end{bmatrix}\n",
    "\\end{equation}\n",
    "\n",
    "\\begin{equation}\n",
    "\\boldsymbol{V} =\n",
    "\\begin{bmatrix}\n",
    "-0.70710678 & -0.70710678 \\\\\n",
    "-0.70710678 & 0.70710678\n",
    "\\end{bmatrix}\n",
    "\\end{equation}\n",
    "\n",
    "b) \n",
    "\\begin{equation}\n",
    "\\boldsymbol{A}^{+} =\n",
    "\\begin{bmatrix}\n",
    "-0.16666667 & 0.08333333  & 0.33333333 \\\\\n",
    "0.33333333  & 0.08333333  &-0.16666667\n",
    "\\end{bmatrix}\n",
    "\\end{equation}\n",
    "\n",
    "c) -\n",
    "\n",
    "d) -\n",
    "\n",
    "## Q16.\n",
    "\n",
    "\\begin{equation}\n",
    "\\boldsymbol{U} =\n",
    "\\begin{bmatrix}\n",
    "1 &  0.0 \\\\\n",
    "0.0 &  1\n",
    "\\end{bmatrix}\n",
    "\\end{equation}\n",
    "\n",
    "\\begin{equation}\n",
    "\\boldsymbol{\\Sigma} =\n",
    "\\begin{bmatrix}\n",
    "3 &  0 \\\\\n",
    "0 &  2\n",
    "\\end{bmatrix}\n",
    "\\end{equation}\n",
    "\n",
    "\\begin{equation}\n",
    "\\boldsymbol{V} =\n",
    "\\begin{bmatrix}\n",
    "0 & 1 \\\\\n",
    "1 & 0\\\\\n",
    "0 & 0\\\\\n",
    "\\end{bmatrix}\n",
    "\\end{equation}\n",
    "\n",
    "\\begin{equation}\n",
    "\\boldsymbol{A}^{+} =\n",
    "\\begin{bmatrix}\n",
    "0 & 1/2 \\\\\n",
    "1/3 & 0\\\\\n",
    "0 & 0\\\\\n",
    "\\end{bmatrix}\n",
    "\\end{equation}"
   ]
  },
  {
   "cell_type": "markdown",
   "metadata": {},
   "source": [
    "## Q17\n",
    "\n",
    "\\begin{equation}\n",
    "\\boldsymbol{x} = [ 1, \\, 1/2, \\, 1/2]^{T}\n",
    "\\end{equation}"
   ]
  }
 ],
 "metadata": {
  "kernelspec": {
   "display_name": "Python 3",
   "language": "python",
   "name": "python3"
  },
  "language_info": {
   "codemirror_mode": {
    "name": "ipython",
    "version": 3
   },
   "file_extension": ".py",
   "mimetype": "text/x-python",
   "name": "python",
   "nbconvert_exporter": "python",
   "pygments_lexer": "ipython3",
   "version": "3.5.2+"
  }
 },
 "nbformat": 4,
 "nbformat_minor": 0
}
