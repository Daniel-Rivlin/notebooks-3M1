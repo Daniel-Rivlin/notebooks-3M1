{
 "cells": [
  {
   "cell_type": "markdown",
   "metadata": {},
   "source": [
    "# Mathematical Methods (3M1)"
   ]
  },
  {
   "cell_type": "markdown",
   "metadata": {},
   "source": [
    "These notebooks are in support of the course Mathematical Methods (3M1) at the Department of Engineering, University of Cambridge. A number the graphs and images in the lecture notes were created with the notebooks.\n",
    "\n",
    "Please report any errors to  Garth N. Wells <gnw20@cam.ac.uk>, or register an issue on GitHub at https://github.com/garth-wells/notebooks-3M1/issues/.\n",
    "\n",
    "\n",
    "1. [Vectors, matrices and norms](Fundamentals.ipynb)\n",
    "1. [Interpolation and least-squares fitting](LeastSquares.ipynb)\n",
    "1. [Iterative methods](IterativeMethods.ipynb)\n",
    "1. [Singular value decomposition](SingularValueDecomposition.ipynb)"
   ]
  },
  {
   "cell_type": "markdown",
   "metadata": {},
   "source": [
    "[Examples paper numerical answers](Examples%20paper%20answers.ipynb)"
   ]
  }
 ],
 "metadata": {
  "kernelspec": {
   "display_name": "Python 3",
   "language": "python",
   "name": "python3"
  },
  "language_info": {
   "codemirror_mode": {
    "name": "ipython",
    "version": 3
   },
   "file_extension": ".py",
   "mimetype": "text/x-python",
   "name": "python",
   "nbconvert_exporter": "python",
   "pygments_lexer": "ipython3",
   "version": "3.5.1"
  }
 },
 "nbformat": 4,
 "nbformat_minor": 0
}
