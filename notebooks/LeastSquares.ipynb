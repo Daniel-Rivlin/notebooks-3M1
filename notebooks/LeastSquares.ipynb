{
 "cells": [
  {
   "cell_type": "markdown",
   "metadata": {
    "slideshow": {
     "slide_type": "slide"
    }
   },
   "source": [
    "# Least squares problems"
   ]
  },
  {
   "cell_type": "markdown",
   "metadata": {
    "slideshow": {
     "slide_type": "slide"
    }
   },
   "source": [
    "We sometimes wish to solve problems of the form\n",
    "\n",
    "$$\n",
    "\\boldsymbol{A} \\boldsymbol{x} = \\boldsymbol{b}\n",
    "$$\n",
    "\n",
    "where $\\boldsymbol{A}$ is an $n \\times m$ matrix where $m > n$. Clearly $\\boldsymbol{A}$ is not square, and in general no solution to the problem exists. This is a typical of an over-determined problem - we have more equations than unknowns. A classical example is when trying to fit an $n$th-order polynomial to $k > n + 1$ data points - the degree of the polynomial is not high enough to construct an interpolating polynomial.\n",
    "\n",
    "In this notebook we assume that $\\boldsymbol{A}$ has full rank, i.e. the columns of $\\boldsymbol{A}$ are linearly independent.\n",
    "\n",
    "Before computing least-squares problems, we start with examples of polynomial interpolation.\n"
   ]
  },
  {
   "cell_type": "markdown",
   "metadata": {},
   "source": [
    "## Polynomial interpolation"
   ]
  },
  {
   "cell_type": "markdown",
   "metadata": {},
   "source": [
    "Polynomial interpolation involves fitting a $n$th order polynimail to $n+1$ data points. The polynomial interpolates each point."
   ]
  },
  {
   "cell_type": "markdown",
   "metadata": {},
   "source": [
    "### Interpolating the sine function"
   ]
  },
  {
   "cell_type": "markdown",
   "metadata": {},
   "source": [
    "We first consider the interpolation of 20 equally spaces points that lie of the sine graph. To do this, we use NumPy to generate 20 points $\\{ x_{i} \\}$ on the interval $[-\\pi, \\pi]$, and evaluate $\\sin(x)$ at each point such that $\\boldsymbol{y} = \\{ \\sin(x_{i})\\}$:"
   ]
  },
  {
   "cell_type": "code",
   "execution_count": 1,
   "metadata": {
    "collapsed": false
   },
   "outputs": [],
   "source": [
    "import numpy as np\n",
    "N = 20\n",
    "x_p = np.linspace(-np.pi, np.pi, N)\n",
    "y_p = np.sin(x_p)"
   ]
  },
  {
   "cell_type": "markdown",
   "metadata": {},
   "source": [
    "We use the variable `N` to hold the number of points so we can change it if we want to experiment.\n",
    "\n",
    "We can plot the points:"
   ]
  },
  {
   "cell_type": "code",
   "execution_count": 2,
   "metadata": {
    "collapsed": false
   },
   "outputs": [
    {
     "data": {
      "image/png": "[encoded data removed]",
      "text/plain": [
       "<matplotlib.figure.Figure at 0x7f28fc042ba8>"
      ]
     },
     "metadata": {},
     "output_type": "display_data"
    }
   ],
   "source": [
    "%matplotlib inline\n",
    "import matplotlib.pyplot as plt\n",
    "\n",
    "plt.xlabel('$x$')\n",
    "plt.ylabel('$y$')\n",
    "plt.title('Points on a sine graph')\n",
    "plt.plot(x_p, y_p,'ro');"
   ]
  },
  {
   "cell_type": "markdown",
   "metadata": {},
   "source": [
    "    With 20 data points, we can interpolate the points with a polynomial $f(x)$ of degree 19:\n",
    "\n",
    "$$\n",
    "f = c_{19} x^{19} + c_{18} x^{18} + \\ldots  + c_{1} x + c_{0}.\n",
    "$$\n",
    "\n",
    "We can find the polynomial coefficients $c_{i}$ by solving  $\\boldsymbol{A} \\boldsymbol{c} = \\boldsymbol{y}$, where $\\boldsymbol{A}$ is the Vandermonde matrix:\n",
    "\n",
    "$$ \n",
    "\\boldsymbol{A} = \\begin{bmatrix}\n",
    "     x_{1}^{19} & x_{1}^{18} & \\ldots & x_{1}^{2}  & x_{1} & 1  \n",
    "    \\\\\n",
    "     x_{2}^{19} & x_{2}^{18} & \\ldots & x_{2}^{2}  & x_{2} & 1  \n",
    "    \\\\\n",
    "    \\vdots  & \\vdots & \\vdots    & \\ldots & \\vdots   \n",
    "    \\\\\n",
    "     x_{20}^{19} & x_{20}^{18} & \\ldots & x_{20}^{2}  & x_{20} & 1  \n",
    "\\end{bmatrix}\n",
    "$$\n",
    "\n",
    "the vector $\\boldsymbol{c}$ contains the polynomial coefficient\n",
    "\n",
    "$$ \n",
    "\\boldsymbol{c} = \\begin{bmatrix}\n",
    "    c_{19} & c_{20} & \\ldots & c_{0}  \n",
    "\\end{bmatrix}^{T}\n",
    "$$\n",
    "\n",
    "and the vector $\\boldsymbol{y}$ contains the points $y_{i}$ that we wish to fit, which is this example are the points on the sine graph.\n",
    "\n",
    "*Note: the ordering in each row of the Vandermonde matrix above is reversed with respect to what you will find in most books. We do this because earlier versions of NumPy built-in function for generating the Vandermonde matrix use the above ordering. Later verions provide an option to generate the more conventional ordering.*\n",
    "\n",
    "Using the NumPy built-in function to generate the Vandermonde matrix:"
   ]
  },
  {
   "cell_type": "code",
   "execution_count": 3,
   "metadata": {
    "collapsed": false
   },
   "outputs": [],
   "source": [
    "A = np.vander(x_p, N)"
   ]
  },
  {
   "cell_type": "markdown",
   "metadata": {},
   "source": [
    "We can solve the system to find the coefficients:"
   ]
  },
  {
   "cell_type": "code",
   "execution_count": 4,
   "metadata": {
    "collapsed": false
   },
   "outputs": [],
   "source": [
    "c = np.linalg.solve(A, y_p)"
   ]
  },
  {
   "cell_type": "markdown",
   "metadata": {},
   "source": [
    "NumPy has a function `poly1d` to turn the coefficients into a polynomial object, and it can display a representation of the polynomial:"
   ]
  },
  {
   "cell_type": "code",
   "execution_count": 5,
   "metadata": {
    "collapsed": false
   },
   "outputs": [
    {
     "name": "stdout",
     "output_type": "stream",
     "text": [
      "            19             18             17            16\n",
      "-7.547e-18 x  + 2.412e-20 x  + 2.802e-15 x  - 8.45e-19 x \n",
      "              15             14             13             12\n",
      " - 7.646e-13 x  + 1.197e-17 x  + 1.606e-10 x  - 8.831e-17 x \n",
      "              11            10             9             8\n",
      " - 2.505e-08 x  + 3.64e-16 x  + 2.756e-06 x - 8.331e-16 x\n",
      "              7             6            5             4          3\n",
      " - 0.0001984 x + 9.772e-16 x + 0.008333 x - 4.579e-16 x - 0.1667 x + 1 x\n"
     ]
    }
   ],
   "source": [
    "p = np.poly1d(c)\n",
    "print(p)"
   ]
  },
  {
   "cell_type": "markdown",
   "metadata": {},
   "source": [
    "To plot the fitted polynomial, we evaluate the polynomial at 200 points:"
   ]
  },
  {
   "cell_type": "code",
   "execution_count": 6,
   "metadata": {
    "collapsed": false
   },
   "outputs": [
    {
     "data": {
      "image/png": "[encoded data removed]",
      "text/plain": [
       "<matplotlib.figure.Figure at 0x7f28dbfe6b38>"
      ]
     },
     "metadata": {},
     "output_type": "display_data"
    }
   ],
   "source": [
    "# Create an array of 200 equally spaced points on [-pi, pi]\n",
    "x_fit = np.linspace(-np.pi, np.pi, 200) \n",
    "\n",
    "# Evaluate the polynomial at the points\n",
    "y_fit = p(x_fit)\n",
    "\n",
    "# Plot the interpolating polynomial and the sample points\n",
    "plt.xlabel('$x$')\n",
    "plt.ylabel('$f$')\n",
    "plt.title('Points on a sine graph interpolate by a polynomial')\n",
    "plot = plt.plot(x_p, y_p, 'ro', x_fit, y_fit,'b-');"
   ]
  },
  {
   "cell_type": "markdown",
   "metadata": {},
   "source": [
    "We can see from the graph that the polynomial closely ressambles the sine function."
   ]
  },
  {
   "cell_type": "markdown",
   "metadata": {},
   "source": [
    "### Interpolating a noisy sine curve"
   ]
  },
  {
   "cell_type": "markdown",
   "metadata": {},
   "source": [
    "We now repeat the fitting exercise, but we now add a small amount of noise to the points on the sine curve that we wish to interpolate: "
   ]
  },
  {
   "cell_type": "code",
   "execution_count": 7,
   "metadata": {
    "collapsed": false
   },
   "outputs": [],
   "source": [
    "y_p_noise = y_p + 2.0e-2*(np.random.rand(len(y_p)) - 0.5)"
   ]
  },
  {
   "cell_type": "markdown",
   "metadata": {},
   "source": [
    "We can plot the points:"
   ]
  },
  {
   "cell_type": "code",
   "execution_count": 8,
   "metadata": {
    "collapsed": false
   },
   "outputs": [
    {
     "data": {
      "image/png": "[encoded data removed]",
      "text/plain": [
       "<matplotlib.figure.Figure at 0x7f28dbec8cc0>"
      ]
     },
     "metadata": {},
     "output_type": "display_data"
    }
   ],
   "source": [
    "plt.xlabel('x')\n",
    "plt.ylabel('$y$')\n",
    "plt.title('Points on a noisy sine')\n",
    "plt.plot(x_p, y_p_noise,'ro');"
   ]
  },
  {
   "cell_type": "markdown",
   "metadata": {},
   "source": [
    "To the eye, the noise is hard to detect.\n",
    "\n",
    "We can solve the system to find the coefficients:"
   ]
  },
  {
   "cell_type": "code",
   "execution_count": 9,
   "metadata": {
    "collapsed": false
   },
   "outputs": [],
   "source": [
    "c_noise = np.linalg.solve(A, y_p_noise)"
   ]
  },
  {
   "cell_type": "code",
   "execution_count": 10,
   "metadata": {
    "collapsed": false
   },
   "outputs": [],
   "source": [
    "p_noise = np.poly1d(c_noise)"
   ]
  },
  {
   "cell_type": "code",
   "execution_count": 11,
   "metadata": {
    "collapsed": false
   },
   "outputs": [
    {
     "data": {
      "image/png": "[encoded data removed]",
      "text/plain": [
       "<matplotlib.figure.Figure at 0x7f2901e2b128>"
      ]
     },
     "metadata": {},
     "output_type": "display_data"
    }
   ],
   "source": [
    "y_noise_fit = p_noise(x_fit)\n",
    "\n",
    "plt.xlabel('$x$')\n",
    "plt.ylabel('$f$')\n",
    "plt.title('Points on a sine graph with noise interpolated by a polynomial')\n",
    "plt.plot(x_p, y_p_noise, 'ro', x_fit, y_noise_fit,'b-');"
   ]
  },
  {
   "cell_type": "markdown",
   "metadata": {},
   "source": [
    "The points are clearly interpolated, but the the result is now terrible near the boundaries of the interval, with large spikes.  The spikes are known as Runge's phenomenon. A similar effect with a Fourier  basis is known as Gibb's phenomenon.\n",
    "\n",
    "This is a common problem with polynomial fitting. With the exact sine point, we were lucky. With well-chosen, non-uniform interpolation points it is possible to improve the interpolation of points.\n",
    "\n"
   ]
  },
  {
   "cell_type": "markdown",
   "metadata": {},
   "source": [
    "### Conditioning of the Vandermonde matrix"
   ]
  },
  {
   "cell_type": "markdown",
   "metadata": {},
   "source": [
    "We have seen by example already that the conditioning of the  Vandermonde matrix is poor. If the \n",
    "conditioning of  matrix $\\boldsymbol{A}$ is poor, then the conditioning of the normal matrix $\\boldsymbol{A}^{T}\\boldsymbol{A}$ will be much worse:"
   ]
  },
  {
   "cell_type": "markdown",
   "metadata": {},
   "source": [
    "The Vandermonde matrix is notoriously ill-conditioned. Computing the condition number:"
   ]
  },
  {
   "cell_type": "code",
   "execution_count": 12,
   "metadata": {
    "collapsed": false
   },
   "outputs": [
    {
     "name": "stdout",
     "output_type": "stream",
     "text": [
      "Condition number of the Vandermonde matrix: 933564155616.2965\n"
     ]
    }
   ],
   "source": [
    "print(\"Condition number of the Vandermonde matrix: {}\".format(np.linalg.cond(A, 2)))"
   ]
  },
  {
   "cell_type": "markdown",
   "metadata": {},
   "source": [
    "We see the that the condition number is very large. Such a matrix should not be solved with methods such as LU decomposition (despite what is done in the above examples!)."
   ]
  },
  {
   "cell_type": "markdown",
   "metadata": {},
   "source": [
    "## Least-squares fitting"
   ]
  },
  {
   "cell_type": "markdown",
   "metadata": {},
   "source": [
    "We will now looking at fitting a polynomial of degree $k < n + 1$ to points on the sine graph. The degree of the polynomial is not high enough to interpolate all points, so we will compute a best-fit in the least-squares sense.\n",
    "\n",
    "We have seen in lectures that solving the least squares solution involves solving \n",
    "\n",
    "$$\n",
    "\\boldsymbol{A}^{T}\\boldsymbol{A} \\boldsymbol{c} = \\boldsymbol{A}^{T} \\boldsymbol{y}\n",
    "$$\n",
    "\n",
    "If we want ot fit a $5$th-order polynomial to 20 data points, $\\boldsymbol{A}$ is the $20 \\times 6$ matrix:\n",
    "\n",
    "$$ \n",
    "\\boldsymbol{A} = \\begin{bmatrix}\n",
    "     x_{1}^{5} & x_{1}^{4} & \\ldots & x_{1}^{2}  & x_{1} & 1  \n",
    "    \\\\\n",
    "     x_{2}^{5} & x_{2}^{4} & \\ldots & x_{2}^{2}  & x_{2} & 1  \n",
    "    \\\\\n",
    "    \\vdots  & \\vdots & \\vdots    & \\ldots & \\vdots   \n",
    "    \\\\\n",
    "    \\vdots  & \\vdots & \\vdots    & \\ldots & \\vdots   \n",
    "    \\\\\n",
    "     x_{20}^{5} & x_{20}^{4} & \\ldots & x_{20}^{2}  & x_{20} & 1  \n",
    "\\end{bmatrix}\n",
    "$$\n",
    "\n",
    "and $\\boldsymbol{c}$ contains the $6$ polynomial coefficients \n",
    "\n",
    "$$ \n",
    "\\boldsymbol{c} \n",
    "    = \\begin{bmatrix}\n",
    "     c_{0} & c_{1} & c_{2} & c_{3} & c_{4}\n",
    "    \\end{bmatrix}\n",
    "$$\n",
    "\n",
    "and $\\boldsymbol{y}$ contains the 20 points we want to fit."
   ]
  },
  {
   "cell_type": "markdown",
   "metadata": {},
   "source": [
    "### Fitting points on the sine graph"
   ]
  },
  {
   "cell_type": "markdown",
   "metadata": {},
   "source": [
    "Let's try fitting a lower-order polynomial to the 20 data points without noise. We start with a polynomial of degree 6. We first create the Vandermonde matrix:"
   ]
  },
  {
   "cell_type": "code",
   "execution_count": 13,
   "metadata": {
    "collapsed": false
   },
   "outputs": [],
   "source": [
    "A = np.vander(x_p, 6)"
   ]
  },
  {
   "cell_type": "markdown",
   "metadata": {},
   "source": [
    "and then solve $$\\boldsymbol{A}^{T}\\boldsymbol{A} \\boldsymbol{c} = \\boldsymbol{A}^{T} \\boldsymbol{y}$$ and create a NumPy polynomial from the coefficients:"
   ]
  },
  {
   "cell_type": "code",
   "execution_count": 14,
   "metadata": {
    "collapsed": false
   },
   "outputs": [
    {
     "name": "stdout",
     "output_type": "stream",
     "text": [
      "          5             4          3             2\n",
      "0.005489 x + 2.446e-16 x - 0.1539 x - 2.372e-15 x + 0.9856 x + 2.889e-15\n"
     ]
    }
   ],
   "source": [
    "ATA = (A.T).dot(A)\n",
    "c_ls = np.linalg.solve(ATA, (A.T).dot(y_p))\n",
    "p_ls = np.poly1d(c_ls)\n",
    "print(p_ls)"
   ]
  },
  {
   "cell_type": "markdown",
   "metadata": {},
   "source": [
    "Plotting the polynomial:"
   ]
  },
  {
   "cell_type": "code",
   "execution_count": 15,
   "metadata": {
    "collapsed": false
   },
   "outputs": [
    {
     "data": {
      "image/png": "[encoded data removed]",
      "text/plain": [
       "<matplotlib.figure.Figure at 0x7f28de023898>"
      ]
     },
     "metadata": {},
     "output_type": "display_data"
    }
   ],
   "source": [
    "# Evaluate polynomial at some point\n",
    "y_ls = p_ls(x_fit)\n",
    "\n",
    "# Plot\n",
    "plt.xlabel('$x$')\n",
    "plt.ylabel('$f$')\n",
    "plt.title('Least-squares fit of 20 points on the sine graph with a $6$th-order polynomial')\n",
    "plt.plot(x_p, y_p, 'ro', x_fit, y_ls,'b-');"
   ]
  },
  {
   "cell_type": "markdown",
   "metadata": {},
   "source": [
    "The fit appears to be very good. We experiment now with some other order polynomials. We will use from now on the NumPy function `polyfit` to shorten the code. Moreover, `plolyfit` will uses a different solution algorithm from what we have above, namely a singular value decomposition, to compute the same problem but with less susceptibility to round-off errors.\n",
    "\n",
    "Starting with degree 3:"
   ]
  },
  {
   "cell_type": "code",
   "execution_count": 16,
   "metadata": {
    "collapsed": false
   },
   "outputs": [
    {
     "data": {
      "image/png": "[encoded data removed]",
      "text/plain": [
       "<matplotlib.figure.Figure at 0x7f28dbdcce10>"
      ]
     },
     "metadata": {},
     "output_type": "display_data"
    }
   ],
   "source": [
    "# Compute the coefficients of a 3rd order polynomial that fits the data points (x_p, y_p) \n",
    "c_ls = np.polyfit(x_p, y_p, 3)\n",
    "\n",
    "# Create a polynomial object from the coefficients\n",
    "p_ls = np.poly1d(c_ls)\n",
    "\n",
    "# Evaluate the polynomial at the plotting points\n",
    "y_ls = p_ls(x_fit)\n",
    "\n",
    "# Plot\n",
    "plt.xlabel('$x$')\n",
    "plt.ylabel('$f$')\n",
    "plt.title('Least-squares fit of 20 points on the sine graph with a $3$rd-order polynomial')\n",
    "plt.plot(x_p, y_p, 'ro', x_fit, y_ls,'b-');"
   ]
  },
  {
   "cell_type": "markdown",
   "metadata": {},
   "source": [
    "The fit is clearly not as good as for the $5$th order polynomial, nonetheless looks quite good. Now for a quadratic polynomial:"
   ]
  },
  {
   "cell_type": "code",
   "execution_count": 17,
   "metadata": {
    "collapsed": false
   },
   "outputs": [
    {
     "data": {
      "image/png": "[encoded data removed]",
      "text/plain": [
       "<matplotlib.figure.Figure at 0x7f28de01dd30>"
      ]
     },
     "metadata": {},
     "output_type": "display_data"
    }
   ],
   "source": [
    "# Compute least squares fit\n",
    "c_ls = np.polyfit(x_p, y_p, 2)\n",
    "p_ls = np.poly1d(c_ls)\n",
    "y_ls = p_ls(x_fit)\n",
    "\n",
    "# Plot\n",
    "plt.xlabel('$x$')\n",
    "plt.ylabel('$f$')\n",
    "plt.title('Least-squares fit of 20 points on the sine graph with a $2$nd-order polynomial')\n",
    "plt.plot(x_p, y_p, 'ro', x_fit, y_ls,'b-');"
   ]
  },
  {
   "cell_type": "markdown",
   "metadata": {},
   "source": [
    "Clearly the quadratic fit is very poor."
   ]
  },
  {
   "cell_type": "markdown",
   "metadata": {},
   "source": [
    "### Sine points with noise"
   ]
  },
  {
   "cell_type": "markdown",
   "metadata": {},
   "source": [
    "Let's now look at a least-squares fit to the sine data with noise. We start by fitting a polynomial of degree 12:"
   ]
  },
  {
   "cell_type": "code",
   "execution_count": 18,
   "metadata": {
    "collapsed": false
   },
   "outputs": [
    {
     "data": {
      "image/png": "[encoded data removed]",
      "text/plain": [
       "<matplotlib.figure.Figure at 0x7f28de01d550>"
      ]
     },
     "metadata": {},
     "output_type": "display_data"
    }
   ],
   "source": [
    "# Compute least squares fit\n",
    "c_ls = np.polyfit(x_p, y_p_noise, 12)\n",
    "p_ls = np.poly1d(c_ls)\n",
    "y_ls = p_ls(x_fit)\n",
    "\n",
    "# Plot\n",
    "plt.xlabel('$x$')\n",
    "plt.ylabel('$f$')\n",
    "plt.title('Least-squares fit of 20 points on the noisy sine graph with a $12$th-order polynomial')\n",
    "plt.plot(x_p, y_p, 'ro', x_fit, y_ls,'b-');"
   ]
  },
  {
   "cell_type": "markdown",
   "metadata": {},
   "source": [
    "The fit looks very good, and note that there is no discernible noise at the ends of the interval.\n",
    "\n",
    "**Exercise:** Experiment with increasing the polynomial order in the above least-squares problem "
   ]
  },
  {
   "cell_type": "markdown",
   "metadata": {},
   "source": [
    "### Conditioning of the normal matrix"
   ]
  },
  {
   "cell_type": "markdown",
   "metadata": {},
   "source": [
    "We have seen already that the conditioning of the Vandermonde matrix $\\boldsymbol{A}$ is poor. If we consider $\\boldsymbol{A}^{T}\\boldsymbol{A}$, we see that the conditioning is much worse again:"
   ]
  },
  {
   "cell_type": "code",
   "execution_count": 19,
   "metadata": {
    "collapsed": false
   },
   "outputs": [
    {
     "name": "stdout",
     "output_type": "stream",
     "text": [
      "Condition number of A (Vandermonde matrix, 15): 139063627.73089054\n",
      "Condition number of (A.T)A (Vandermonde matrix, 15): 1.9340147400137616e+16\n"
     ]
    }
   ],
   "source": [
    "A = np.vander(x_p, 15)\n",
    "print(\"Condition number of A (Vandermonde matrix, 15): {}\".format(np.linalg.cond(A)))\n",
    "print(\"Condition number of (A.T)A (Vandermonde matrix, 15): {}\".format(np.linalg.cond((A.T).dot(A))))"
   ]
  },
  {
   "cell_type": "markdown",
   "metadata": {},
   "source": [
    "The poor condition number indicates why it is not a good idea to form and solve $\\boldsymbol{A}^{T}\\boldsymbol{A}$ directly. In practice, robust algorithms do not follow this approach."
   ]
  }
 ],
 "metadata": {
  "kernelspec": {
   "display_name": "Python 3",
   "language": "python",
   "name": "python3"
  },
  "language_info": {
   "codemirror_mode": {
    "name": "ipython",
    "version": 3
   },
   "file_extension": ".py",
   "mimetype": "text/x-python",
   "name": "python",
   "nbconvert_exporter": "python",
   "pygments_lexer": "ipython3",
   "version": "3.4.3+"
  }
 },
 "nbformat": 4,
 "nbformat_minor": 0
}
