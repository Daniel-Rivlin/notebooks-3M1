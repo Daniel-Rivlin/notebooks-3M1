{
 "metadata": {
  "name": "",
  "signature": "sha256:25bc1f018e240f09823cab82782e514ba88a359efbe71d060abd48e82ad77031"
 },
 "nbformat": 3,
 "nbformat_minor": 0,
 "worksheets": [
  {
   "cells": [
    {
     "cell_type": "markdown",
     "metadata": {
      "slideshow": {
       "slide_type": "slide"
      }
     },
     "source": [
      "#Table of Contents\n",
      "* [1. Least squares problems](#1.-Least-squares-problems)\n",
      "\t* [1.1 Polynomial interpolation](#1.1-Polynomial-interpolation)\n",
      "\t\t* [1.1.1 Interpolating the sine function](#1.1.1-Interpolating-the-sine-function)\n",
      "\t\t* [1.1.2 Fitting a noisy sine curve](#1.1.2-Fitting-a-noisy-sine-curve)\n",
      "\t\t* [1.1.3 Conditioning of the Vandermonde matrix](#1.1.3-Conditioning-of-the-Vandermonde-matrix)\n",
      "\t* [1.2 Least-squares fitting](#1.2-Least-squares-fitting)\n",
      "\t\t* [1.2.1 Fitting points on the sine graph](#1.2.1-Fitting-points-on-the-sine-graph)\n",
      "\t\t* [1.2.2 Sine points with noise](#1.2.2-Sine-points-with-noise)\n",
      "\t\t* [1.2.3 Conditioning of the normal matrix](#1.2.3-Conditioning-of-the-normal-matrix)\n"
     ]
    },
    {
     "cell_type": "heading",
     "level": 1,
     "metadata": {
      "slideshow": {
       "slide_type": "slide"
      }
     },
     "source": [
      "1. Least squares problems"
     ]
    },
    {
     "cell_type": "markdown",
     "metadata": {
      "slideshow": {
       "slide_type": "slide"
      }
     },
     "source": [
      "We sometimes wish to solve problems of the form\n",
      "\n",
      "$$\n",
      "\\boldsymbol{A} \\boldsymbol{x} = \\boldsymbol{b}\n",
      "$$\n",
      "\n",
      "where $\\boldsymbol{A}$ is an $n \\times m$ matrix where $m > n$. Clearly $\\boldsymbol{A}$ is not square, and in general no solution to the problem exists. This is typical of an over-determined problems - we have more equations than unknowns. A classical example is when trying to fit an $n$th-order polynomial to $k > n + 1$ data points - the degree of the polynomial is not high enough to construct an interpolating polynomial.\n",
      "\n",
      "Before computing least-squares problems, we start with examples of polynomial interpolation.\n",
      "\n",
      "We work for now with problem where $\\boldsymbol{A}$ is full rank."
     ]
    },
    {
     "cell_type": "heading",
     "level": 2,
     "metadata": {},
     "source": [
      "1.1 Polynomial interpolation"
     ]
    },
    {
     "cell_type": "markdown",
     "metadata": {},
     "source": [
      "Polynomial interpolation involves fitting a $n$th order polynimail to $n+1$ data points. The polynomial interpolates each point."
     ]
    },
    {
     "cell_type": "heading",
     "level": 3,
     "metadata": {},
     "source": [
      "1.1.1 Interpolating the sine function"
     ]
    },
    {
     "cell_type": "markdown",
     "metadata": {},
     "source": [
      "We first consider the interpolation of 20 equally spaces points of the sine graph. To do this, we use NumPy to generate 20 points $\\{ x_{i} \\}$ on the interval $[-\\pi, \\pi]$, and evaluate $\\sin(x)$ at each point such that $\\boldsymbol{y} = \\{ \\sin(x_{i})\\}$:"
     ]
    },
    {
     "cell_type": "code",
     "collapsed": false,
     "input": [
      "import numpy as np\n",
      "\n",
      "N = 20\n",
      "x = np.linspace(-np.pi, np.pi, N)\n",
      "y = np.sin(x)"
     ],
     "language": "python",
     "metadata": {},
     "outputs": [],
     "prompt_number": 69
    },
    {
     "cell_type": "markdown",
     "metadata": {},
     "source": [
      "We can plot the points:"
     ]
    },
    {
     "cell_type": "code",
     "collapsed": false,
     "input": [
      "%matplotlib inline\n",
      "import matplotlib.pyplot as plt\n",
      "plt.xlabel('$x$')\n",
      "plt.ylabel('$y$')\n",
      "plt.plot(x, y,'ro')"
     ],
     "language": "python",
     "metadata": {},
     "outputs": [
      {
       "metadata": {},
       "output_type": "pyout",
       "prompt_number": 70,
       "text": [
        "[<matplotlib.lines.Line2D at 0x7fde477d3ed0>]"
       ]
      },
      {
       "metadata": {},
       "output_type": "display_data",
       "png": "[encoded data removed]",
       "text": [
        "<matplotlib.figure.Figure at 0x7fde482cef50>"
       ]
      }
     ],
     "prompt_number": 70
    },
    {
     "cell_type": "markdown",
     "metadata": {},
     "source": [
      "With 20 data points, we can interpolate the points with a polynomial $y$ of degree 19:\n",
      "\n",
      "$$\n",
      "y = c_{19} x^{19} + c_{18} x^{18} + \\ldots  + c_{1} x + c_{0}.\n",
      "$$\n",
      "\n",
      "We do this by solving  $\\boldsymbol{A} \\boldsymbol{c} = \\boldsymbol{y}$, where $\\boldsymbol{A}$ is the Vandermonde matrix:\n",
      "\n",
      "$$ \n",
      "\\boldsymbol{A} = \\begin{bmatrix}\n",
      "     x_{1}^{19} & x_{1}^{18} & \\ldots & x_{1}^{2}  & x_{1} & 1  \n",
      "    \\\\\n",
      "     x_{2}^{19} & x_{2}^{18} & \\ldots & x_{2}^{2}  & x_{2} & 1  \n",
      "    \\\\\n",
      "    \\vdots  & \\vdots & \\vdots    & \\ldots & \\vdots   \n",
      "    \\\\\n",
      "     x_{20}^{19} & x_{20}^{18} & \\ldots & x_{20}^{2}  & x_{20} & 1  \n",
      "\\end{bmatrix}\n",
      "$$\n",
      "\n",
      "the vector $\\boldsymbol{c}$ contains the polynomial coefficient\n",
      "\n",
      "$$ \n",
      "\\boldsymbol{c} = \\begin{bmatrix}\n",
      "    c_{19} & c_{20} & \\ldots & c_{0}  \n",
      "\\end{bmatrix}^{T}\n",
      "$$\n",
      "\n",
      "and the vector $\\boldsymbol{y}$ contains the points $y_{i}$ that we wish to fit.\n",
      "\n",
      "*Note: the ordering in each row of the Vandermonde matrix above is reversed with respect to what you will find in most books. We do this because earlier versions of NumPy use the above ordering in the built-in function for generating the Vandermonde matrix. Later verion provide an option to generate the more conventional ordering.*\n",
      "\n",
      "Usin the NumPy built-in function to generate the Vandermonde matrix:"
     ]
    },
    {
     "cell_type": "code",
     "collapsed": false,
     "input": [
      "A = np.vander(x, N)"
     ],
     "language": "python",
     "metadata": {},
     "outputs": [],
     "prompt_number": 71
    },
    {
     "cell_type": "markdown",
     "metadata": {},
     "source": [
      "We can solve the system to find the coefficients:"
     ]
    },
    {
     "cell_type": "code",
     "collapsed": false,
     "input": [
      "c = np.linalg.solve(A, y)"
     ],
     "language": "python",
     "metadata": {},
     "outputs": [],
     "prompt_number": 72
    },
    {
     "cell_type": "markdown",
     "metadata": {},
     "source": [
      "NumPy has a function `poly1d` to turn the coefficients into a polynomial object: "
     ]
    },
    {
     "cell_type": "code",
     "collapsed": false,
     "input": [
      "p = np.poly1d(c)\n",
      "print p"
     ],
     "language": "python",
     "metadata": {},
     "outputs": [
      {
       "output_type": "stream",
       "stream": "stdout",
       "text": [
        "            19             18             17            16\n",
        "-7.547e-18 x  + 2.412e-20 x  + 2.802e-15 x  - 8.45e-19 x \n",
        "              15             14             13             12\n",
        " - 7.646e-13 x  + 1.197e-17 x  + 1.606e-10 x  - 8.831e-17 x \n",
        "              11            10             9             8\n",
        " - 2.505e-08 x  + 3.64e-16 x  + 2.756e-06 x - 8.331e-16 x\n",
        "              7             6            5             4          3\n",
        " - 0.0001984 x + 9.772e-16 x + 0.008333 x - 4.579e-16 x - 0.1667 x + 1 x\n"
       ]
      }
     ],
     "prompt_number": 73
    },
    {
     "cell_type": "code",
     "collapsed": false,
     "input": [
      "x_fit = np.linspace(-np.pi, np.pi, 100) \n",
      "y_fit = p(x_fit)\n",
      "plt.plot(x, y, 'ro', x_fit, y_fit,'b-')"
     ],
     "language": "python",
     "metadata": {},
     "outputs": [
      {
       "metadata": {},
       "output_type": "pyout",
       "prompt_number": 74,
       "text": [
        "[<matplotlib.lines.Line2D at 0x7fde4774ca10>,\n",
        " <matplotlib.lines.Line2D at 0x7fde4774cc50>]"
       ]
      },
      {
       "metadata": {},
       "output_type": "display_data",
       "png": "[encoded data removed]",
       "text": [
        "<matplotlib.figure.Figure at 0x7fde47ac4350>"
       ]
      }
     ],
     "prompt_number": 74
    },
    {
     "cell_type": "markdown",
     "metadata": {},
     "source": [
      "We can see from the graph the we can fit a polynomial very well to points on a sine curve."
     ]
    },
    {
     "cell_type": "heading",
     "level": 3,
     "metadata": {},
     "source": [
      "1.1.2 Fitting a noisy sine curve"
     ]
    },
    {
     "cell_type": "markdown",
     "metadata": {},
     "source": [
      "We now repeat the fitting exercise, but we now add a small amount of noise to the points on the sine curve that we wish to interpolate: "
     ]
    },
    {
     "cell_type": "code",
     "collapsed": false,
     "input": [
      "y_noise = y + 2.0e-2*(np.random.rand(len(y)) - 0.5)"
     ],
     "language": "python",
     "metadata": {},
     "outputs": [],
     "prompt_number": 75
    },
    {
     "cell_type": "markdown",
     "metadata": {},
     "source": [
      "We can plot the points:"
     ]
    },
    {
     "cell_type": "code",
     "collapsed": false,
     "input": [
      "plt.xlabel('i')\n",
      "plt.ylabel('$y$')\n",
      "plt.title('Noisy sine')\n",
      "plt.plot(x, y_noise,'ro')"
     ],
     "language": "python",
     "metadata": {},
     "outputs": [
      {
       "metadata": {},
       "output_type": "pyout",
       "prompt_number": 76,
       "text": [
        "[<matplotlib.lines.Line2D at 0x7fde476ad0d0>]"
       ]
      },
      {
       "metadata": {},
       "output_type": "display_data",
       "png": "[encoded data removed]",
       "text": [
        "<matplotlib.figure.Figure at 0x7fde476ad610>"
       ]
      }
     ],
     "prompt_number": 76
    },
    {
     "cell_type": "markdown",
     "metadata": {},
     "source": [
      "We can solve the system to find the coefficients:"
     ]
    },
    {
     "cell_type": "code",
     "collapsed": false,
     "input": [
      "c_noise = np.linalg.solve(A, y_noise)"
     ],
     "language": "python",
     "metadata": {},
     "outputs": [],
     "prompt_number": 77
    },
    {
     "cell_type": "code",
     "collapsed": false,
     "input": [
      "p_noise = np.poly1d(c_noise)"
     ],
     "language": "python",
     "metadata": {},
     "outputs": [],
     "prompt_number": 78
    },
    {
     "cell_type": "code",
     "collapsed": false,
     "input": [
      "y_noise_fit = p_noise(x_fit)\n",
      "plt.plot(x, y, 'ro', x_fit, y_noise_fit,'b-')"
     ],
     "language": "python",
     "metadata": {},
     "outputs": [
      {
       "metadata": {},
       "output_type": "pyout",
       "prompt_number": 79,
       "text": [
        "[<matplotlib.lines.Line2D at 0x7fde475b2990>,\n",
        " <matplotlib.lines.Line2D at 0x7fde475b2bd0>]"
       ]
      },
      {
       "metadata": {},
       "output_type": "display_data",
       "png": "[encoded data removed]",
       "text": [
        "<matplotlib.figure.Figure at 0x7fde4760ffd0>"
       ]
      }
     ],
     "prompt_number": 79
    },
    {
     "cell_type": "markdown",
     "metadata": {},
     "source": [
      "You can see that the result is now terrible near the boundaries of the interval, with large spikes. \n",
      "\n",
      "This is a common problem with polynomial fitting. With the exact sine point, we were lucky. With well-chosen, non-uniform interpolation points it is possible to improve the interpolation of points.\n",
      "\n",
      "The spikes are known as Runge's phenomenon. A similar effect with a Fourier  basis is known as Gibb's phenomenon."
     ]
    },
    {
     "cell_type": "heading",
     "level": 3,
     "metadata": {},
     "source": [
      "1.1.3 Conditioning of the Vandermonde matrix"
     ]
    },
    {
     "cell_type": "markdown",
     "metadata": {},
     "source": [
      "We have seen by example already that the conditioning of the  Vandermonde matrix is poor. If the \n",
      "conditioning of  matrix $\\boldsymbol{A}$ is poor, then the conditioning of the normal matrix $\\boldsymbol{A}^{T}\\boldsymbol{A}$ will be much worse:"
     ]
    },
    {
     "cell_type": "markdown",
     "metadata": {},
     "source": [
      "The Vandermonde matrix is notoriously ill-conditioned. Computing the condition number:"
     ]
    },
    {
     "cell_type": "code",
     "collapsed": false,
     "input": [
      "print(\"Condition number of the Vandermonde matrix: {}\".format(np.linalg.cond(A, 2)))"
     ],
     "language": "python",
     "metadata": {},
     "outputs": [
      {
       "output_type": "stream",
       "stream": "stdout",
       "text": [
        "Condition number of the Vandermonde matrix: 9.33564155616e+11\n"
       ]
      }
     ],
     "prompt_number": 80
    },
    {
     "cell_type": "markdown",
     "metadata": {},
     "source": [
      "We see the that the condition number is very large. Such a matrix should not be solved with methods such as LU decomposition."
     ]
    },
    {
     "cell_type": "heading",
     "level": 2,
     "metadata": {},
     "source": [
      "1.2 Least-squares fitting"
     ]
    },
    {
     "cell_type": "markdown",
     "metadata": {},
     "source": [
      "We will now looking at fitting a polynomial of degree $k < n + 1$ to the point on the sine graph. The degree of the polynomial is not high enough to interpolate all points, so we will compute a best-fit in the least-squares sense.\n",
      "\n",
      "We have seen in lectures that solving the least squares solution involves solving \n",
      "\n",
      "$$\n",
      "\\boldsymbol{A}^{T}\\boldsymbol{A} \\boldsymbol{c} = \\boldsymbol{A}^{T} \\boldsymbol{y}\n",
      "$$\n",
      "\n",
      "where, when fitting a $5$th-order polynomial to 20 data points $\\boldsymbol{A}$ is the $20 \\times 6$ matrix:\n",
      "\n",
      "$$ \n",
      "\\boldsymbol{A} = \\begin{bmatrix}\n",
      "     x_{1}^{5} & x_{1}^{4} & \\ldots & x_{1}^{2}  & x_{1} & 1  \n",
      "    \\\\\n",
      "     x_{2}^{5} & x_{2}^{4} & \\ldots & x_{2}^{2}  & x_{2} & 1  \n",
      "    \\\\\n",
      "    \\vdots  & \\vdots & \\vdots    & \\ldots & \\vdots   \n",
      "    \\\\\n",
      "    \\vdots  & \\vdots & \\vdots    & \\ldots & \\vdots   \n",
      "    \\\\\n",
      "     x_{20}^{5} & x_{20}^{4} & \\ldots & x_{20}^{2}  & x_{20} & 1  \n",
      "\\end{bmatrix}\n",
      "$$\n",
      "\n",
      "and \n",
      "\n",
      "$$ \n",
      "\\boldsymbol{c} \n",
      "    = \\begin{bmatrix}\n",
      "     c_{0} & c_{1} & c_{2} & c_{3} & c_{4}\n",
      "    \\end{bmatrix}\n",
      "$$\n"
     ]
    },
    {
     "cell_type": "heading",
     "level": 3,
     "metadata": {},
     "source": [
      "1.2.1 Fitting points on the sine graph"
     ]
    },
    {
     "cell_type": "markdown",
     "metadata": {},
     "source": [
      "Let's try fitting a lower-order polynomial to the 20 data points without noise. We start with a polynomial of degree 6. We first create the Vandermonde matrix:"
     ]
    },
    {
     "cell_type": "code",
     "collapsed": false,
     "input": [
      "A = np.vander(x, 6)"
     ],
     "language": "python",
     "metadata": {},
     "outputs": [],
     "prompt_number": 81
    },
    {
     "cell_type": "markdown",
     "metadata": {},
     "source": [
      "and the solve $$\\boldsymbol{A}^{T}\\boldsymbol{A} \\boldsymbol{c} = \\boldsymbol{A}^{T} \\boldsymbol{y}$$ and create a NumPy polynomial from the coefficients:"
     ]
    },
    {
     "cell_type": "code",
     "collapsed": false,
     "input": [
      "ATA = (A.T).dot(A)\n",
      "c_ls = np.linalg.solve(ATA, (A.T).dot(y))\n",
      "p_ls = np.poly1d(c_ls)"
     ],
     "language": "python",
     "metadata": {},
     "outputs": [],
     "prompt_number": 82
    },
    {
     "cell_type": "markdown",
     "metadata": {},
     "source": [
      "Plotting the polynomial:"
     ]
    },
    {
     "cell_type": "code",
     "collapsed": false,
     "input": [
      "y_ls = p_ls(x_fit)\n",
      "plt.plot(x, y, 'ro', x_fit, y_ls,'b-')"
     ],
     "language": "python",
     "metadata": {},
     "outputs": [
      {
       "metadata": {},
       "output_type": "pyout",
       "prompt_number": 83,
       "text": [
        "[<matplotlib.lines.Line2D at 0x7fde474b6950>,\n",
        " <matplotlib.lines.Line2D at 0x7fde474b6b90>]"
       ]
      },
      {
       "metadata": {},
       "output_type": "display_data",
       "png": "[encoded data removed]",
       "text": [
        "<matplotlib.figure.Figure at 0x7fde4753cb50>"
       ]
      }
     ],
     "prompt_number": 83
    },
    {
     "cell_type": "markdown",
     "metadata": {},
     "source": [
      "The fit appear to be very good. We experiment now with some other order polynomials. We will use the NumPy function `olyfit` from now on th shorten the code. Moreover, `plolyfit` will uses a different solution algorithm from what we have above, namely a singular value decomposition, to compute the same problem but with less susceptibility to round-off errors.\n",
      "\n",
      "Starting with degree 3:"
     ]
    },
    {
     "cell_type": "code",
     "collapsed": false,
     "input": [
      "p_ls = np.polyfit(x, y_noise, 3)\n",
      "p_noise_ls = np.poly1d(p_ls)\n",
      "y_ls = p_noise_ls(x_fit)\n",
      "plt.plot(x, y, 'ro', x_fit, y_ls,'b-')"
     ],
     "language": "python",
     "metadata": {},
     "outputs": [
      {
       "metadata": {},
       "output_type": "pyout",
       "prompt_number": 84,
       "text": [
        "[<matplotlib.lines.Line2D at 0x7fde473fa390>,\n",
        " <matplotlib.lines.Line2D at 0x7fde473fa5d0>]"
       ]
      },
      {
       "metadata": {},
       "output_type": "display_data",
       "png": "[encoded data removed]",
       "text": [
        "<matplotlib.figure.Figure at 0x7fde4790e550>"
       ]
      }
     ],
     "prompt_number": 84
    },
    {
     "cell_type": "markdown",
     "metadata": {},
     "source": [
      "The fit for a $3$rd order looks quite good. Now for a cubic polynomial:"
     ]
    },
    {
     "cell_type": "code",
     "collapsed": false,
     "input": [
      "p_ls = np.polyfit(x, y_noise, 2)\n",
      "p_noise_ls = np.poly1d(p_ls)\n",
      "y_ls = p_noise_ls(x_fit)\n",
      "plt.plot(x, y, 'ro', x_fit, y_ls,'b-')"
     ],
     "language": "python",
     "metadata": {},
     "outputs": [
      {
       "metadata": {},
       "output_type": "pyout",
       "prompt_number": 85,
       "text": [
        "[<matplotlib.lines.Line2D at 0x7fde47325b90>,\n",
        " <matplotlib.lines.Line2D at 0x7fde47325dd0>]"
       ]
      },
      {
       "metadata": {},
       "output_type": "display_data",
       "png": "[encoded data removed]",
       "text": [
        "<matplotlib.figure.Figure at 0x7fde475f6890>"
       ]
      }
     ],
     "prompt_number": 85
    },
    {
     "cell_type": "markdown",
     "metadata": {},
     "source": [
      "Clearly the quadratic fit is poor."
     ]
    },
    {
     "cell_type": "heading",
     "level": 3,
     "metadata": {},
     "source": [
      "1.2.2 Sine points with noise"
     ]
    },
    {
     "cell_type": "markdown",
     "metadata": {},
     "source": [
      "Let's now look at a least-squares fit to the sine data with noise. We start by fitting a polynomial of degree 12:"
     ]
    },
    {
     "cell_type": "code",
     "collapsed": false,
     "input": [
      "p_ls = np.polyfit(x, y_noise, 12)\n",
      "p_noise_ls = np.poly1d(p_ls)\n",
      "y_ls = p_noise_ls(x_fit)\n",
      "plt.plot(x, y, 'ro', x_fit, y_ls,'b-')"
     ],
     "language": "python",
     "metadata": {},
     "outputs": [
      {
       "metadata": {},
       "output_type": "pyout",
       "prompt_number": 86,
       "text": [
        "[<matplotlib.lines.Line2D at 0x7fde472e13d0>,\n",
        " <matplotlib.lines.Line2D at 0x7fde472e1610>]"
       ]
      },
      {
       "metadata": {},
       "output_type": "display_data",
       "png": "[encoded data removed]",
       "text": [
        "<matplotlib.figure.Figure at 0x7fde47664610>"
       ]
      }
     ],
     "prompt_number": 86
    },
    {
     "cell_type": "markdown",
     "metadata": {},
     "source": [
      "The fit is very good, with no observable Runge phenomenon. Using a cubic polynomial:"
     ]
    },
    {
     "cell_type": "code",
     "collapsed": false,
     "input": [
      "p = np.polyfit(x, y_noise, 3)\n",
      "p_noise_ls = np.poly1d(p)\n",
      "y_ls = p_noise_ls(x_fit)\n",
      "plt.plot(x, y, 'ro', x_fit, y_ls,'b-')"
     ],
     "language": "python",
     "metadata": {},
     "outputs": [
      {
       "metadata": {},
       "output_type": "pyout",
       "prompt_number": 87,
       "text": [
        "[<matplotlib.lines.Line2D at 0x7fde4721a390>,\n",
        " <matplotlib.lines.Line2D at 0x7fde4721a5d0>]"
       ]
      },
      {
       "metadata": {},
       "output_type": "display_data",
       "png": "[encoded data removed]",
       "text": [
        "<matplotlib.figure.Figure at 0x7fde4736b4d0>"
       ]
      }
     ],
     "prompt_number": 87
    },
    {
     "cell_type": "markdown",
     "metadata": {},
     "source": [
      "the fit is again very good."
     ]
    },
    {
     "cell_type": "heading",
     "level": 3,
     "metadata": {},
     "source": [
      "1.2.3 Conditioning of the normal matrix"
     ]
    },
    {
     "cell_type": "markdown",
     "metadata": {},
     "source": [
      "The conditioning of $\\boldsymbol{A}$ is poor. If we condsider $\\boldsymbol{A}^{T}\\boldsymbol{A}$, we see that the conditioning is much worse again:"
     ]
    },
    {
     "cell_type": "code",
     "collapsed": false,
     "input": [
      "A = np.vander(x, 15)\n",
      "print(\"Condition number of A (Vandermonde matrix, 15): {}\".format(np.linalg.cond(A)))\n",
      "print(\"Condition number of (A.T)A (Vandermonde matrix, 15): {}\".format(np.linalg.cond((A.T).dot(A))))"
     ],
     "language": "python",
     "metadata": {},
     "outputs": [
      {
       "output_type": "stream",
       "stream": "stdout",
       "text": [
        "Condition number of A (Vandermonde matrix, 15): 139063627.731\n",
        "Condition number of (A.T)A (Vandermonde matrix, 15): 1.93401474001e+16\n"
       ]
      }
     ],
     "prompt_number": 88
    },
    {
     "cell_type": "markdown",
     "metadata": {},
     "source": [
      "The poor condition number indicates why it is not a good idea to form and solve $\\boldsymbol{A}^{T}\\boldsymbol{A}$ directly. In practice, robust algorithms avoid this step."
     ]
    },
    {
     "cell_type": "code",
     "collapsed": false,
     "input": [],
     "language": "python",
     "metadata": {},
     "outputs": [],
     "prompt_number": 88
    }
   ],
   "metadata": {}
  }
 ]
}