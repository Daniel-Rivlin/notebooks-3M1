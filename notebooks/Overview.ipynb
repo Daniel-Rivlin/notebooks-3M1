{
 "metadata": {
  "name": "",
  "signature": "sha256:723533320d0896a6dd1514d1b30a430213048c9424aedc2c7746837e8a0aecc0"
 },
 "nbformat": 3,
 "nbformat_minor": 0,
 "worksheets": [
  {
   "cells": [
    {
     "cell_type": "heading",
     "level": 1,
     "metadata": {},
     "source": [
      "Mathematical Methods (3M1)"
     ]
    },
    {
     "cell_type": "markdown",
     "metadata": {},
     "source": [
      "These notebooks are in support of the course Mathematical Methods (3M1) at the Department of Engineering, University of Cambridge. A number the graphs and images in the lecture notes were created with the notebooks.\n",
      "\n",
      "The notebooks are under development. Please report any errors to  Garth N. Wells <gnw20@cam.ac.uk>.\n",
      "\n",
      "1. [Vectors, matrices and norms](Fundamentals.ipynb)\n",
      "1. [Interpolation and least-squares fitting](LeastSquares.ipynb)\n",
      "1. [Iterative methods](IterativeMethods.ipynb)\n",
      "1. [Singular value decomposition](SingularValueDecomposition.ipynb)"
     ]
    },
    {
     "cell_type": "heading",
     "level": 3,
     "metadata": {},
     "source": [
      "Contributed notebooks"
     ]
    },
    {
     "cell_type": "markdown",
     "metadata": {},
     "source": [
      "Modification of the notebooks that students ate happy to share are listed below. It may be necessary run IPython to use some of the modifications.\n",
      "\n",
      "- [Interpolation with sliders for points, polynomial degree and noise](http://nbviewer.ipython.org/github/quang-ha/notebooks-3M1/blob/master/notebooks/LeastSquares.ipynb)"
     ]
    }
   ],
   "metadata": {}
  }
 ]
}