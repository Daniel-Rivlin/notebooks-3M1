{
 "metadata": {
  "name": "",
  "signature": "sha256:a494f7049fe8967976974c8ac8a5c576e3fba8991277e1bb3ad2fe4896497673"
 },
 "nbformat": 3,
 "nbformat_minor": 0,
 "worksheets": [
  {
   "cells": [
    {
     "cell_type": "heading",
     "level": 1,
     "metadata": {},
     "source": [
      "Mathematical Methods (3M1)"
     ]
    },
    {
     "cell_type": "markdown",
     "metadata": {},
     "source": [
      "These notebooks are in support of the course Mathematical Methods (3M1) at the Department of Engineering, University of Cambridge. A number the graphs and images in the lecture notes were created with the notebooks.\n",
      "\n",
      "The notebooks are under development. Please report any errors to  Garth N. Wells <gnw20@cam.ac.uk>.\n",
      "\n",
      "- [Vectors, matrices and norms](Fundamentals.ipynb)\n",
      "- [Interpolation and least-squares fitting](LeastSquares.ipynb)\n",
      "- [Iterative methods](IterativeMethods.ipynb)\n",
      "- [Singular value decomposition image compression (under development)](SingularValueDecomposition.ipynb)"
     ]
    },
    {
     "cell_type": "heading",
     "level": 3,
     "metadata": {},
     "source": [
      "Contributed notebooks"
     ]
    },
    {
     "cell_type": "markdown",
     "metadata": {},
     "source": [
      "Modification of the notebooks that students ate happy to share are listed below. It may be necessary run IPython to use some of the modifications.\n",
      "\n",
      "- [Interpolation with sliders for points, polynomial degree and noise](http://nbviewer.ipython.org/github/quang-ha/notebooks-3M1/blob/master/notebooks/LeastSquares.ipynb)"
     ]
    }
   ],
   "metadata": {}
  }
 ]
}