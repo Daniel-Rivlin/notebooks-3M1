{
 "metadata": {
  "name": "",
  "signature": "sha256:fe605b0b076a8ac37689c161d5862264eeade3d07479bba72e53524b80b54fca"
 },
 "nbformat": 3,
 "nbformat_minor": 0,
 "worksheets": [
  {
   "cells": [
    {
     "cell_type": "markdown",
     "metadata": {},
     "source": [
      "# Mathematical Methods (3M1)\n",
      "\n",
      "This these notebooks are in support of the course Mathematical Methods (3M1) at the Department of Engineering, University of Cambridge.\n",
      "\n",
      "The notebooks are under development. Please report any errors to  Garth N. Wells <gnw20@cam.ac.uk>.\n",
      "\n",
      "- [Vectors, matrices and norms](Fundamentals.ipynb)"
     ]
    }
   ],
   "metadata": {}
  }
 ]
}