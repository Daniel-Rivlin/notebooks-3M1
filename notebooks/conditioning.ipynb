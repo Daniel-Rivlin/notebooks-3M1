{
 "metadata": {
  "name": "",
  "signature": "sha256:baee49522c5c4425515c656370aa0d8983fda2cca46aa3ea251984c75fc6e07e"
 },
 "nbformat": 3,
 "nbformat_minor": 0,
 "worksheets": [
  {
   "cells": [
    {
     "cell_type": "markdown",
     "metadata": {},
     "source": [
      "# Condition number versus determinant\n",
      "\n",
      "We consider an $n \\times n$ upper triangular matrix filled with two, and one on the diagonal:\n",
      "\n",
      "$$\n",
      "\\boldsymbol{A} = \\begin{bmatrix} \n",
      "1 & 2 & \\ldots & 2 \n",
      "\\\\\n",
      "  & 1 & \\ddots & \\vdots \n",
      "\\\\\n",
      "  &   & \\ddots & 2\n",
      "\\\\\n",
      "   &  &        & 1\n",
      "\\end{bmatrix}\n",
      "$$\n",
      "\n",
      "This matrix has a determinent of one, and a condition number that grows with $n$. We can explore this with NumPy. "
     ]
    },
    {
     "cell_type": "code",
     "collapsed": false,
     "input": [
      "import numpy as np\n",
      "\n",
      "def test_matrix(n):\n",
      "    A = np.zeros((n, n))\n",
      "    A[np.triu_indices(n)] = 2.0\n",
      "    np.fill_diagonal(A, 1.0)\n",
      "    return A\n",
      "\n",
      "sizes = [2, 10, 100, 500]\n",
      "for n in sizes:\n",
      "    A = test_matrix(n)\n",
      "    print(\"Matrix size: {} x {}\".format(n, n))\n",
      "    print(\"   * l_2 condition number is: {}\".format(np.linalg.cond(A, 2)))\n",
      "    print(\"   * determinant is: {}\".format(np.linalg.det(A)))"
     ],
     "language": "python",
     "metadata": {},
     "outputs": [
      {
       "output_type": "stream",
       "stream": "stdout",
       "text": [
        "Matrix size: 2 x 2\n",
        "   * l_2 condition number is: 500000.000008\n",
        "   * determinant is: 1e-05\n",
        "Matrix size: 10 x 10\n",
        "   * l_2 condition number is: 7724147.88252\n",
        "   * determinant is: 1e-05\n",
        "Matrix size: 100 x 100\n",
        "   * l_2 condition number is: 253685809.655\n",
        "   * determinant is: 1e-05\n",
        "Matrix size: 500 x 500\n",
        "   * l_2 condition number is: 2844911754.45"
       ]
      },
      {
       "output_type": "stream",
       "stream": "stdout",
       "text": [
        "\n",
        "   * determinant is: 1e-05\n"
       ]
      }
     ],
     "prompt_number": 52
    },
    {
     "cell_type": "markdown",
     "metadata": {},
     "source": [
      "We can see above that the condition number grows with problem size while the determant is constant at one. We can now explore what effect this has on the linear solver."
     ]
    },
    {
     "cell_type": "code",
     "collapsed": false,
     "input": [
      "A = test_matrix(2000)\n",
      "print A.shape[0]\n",
      "\n",
      "b0 = np.ones(A.shape[0]) \n",
      "b1 = 1.0e-4*np.random.rand(A.shape[0])\n",
      "b = b0 + b1\n",
      "\n",
      "x0 = np.linalg.solve(A, b0)\n",
      "x  = np.linalg.solve(A, b)\n",
      "\n",
      "error_x = np.linalg.norm(x - x0, 2)/np.linalg.norm(x0, 2)\n",
      "error_b = np.linalg.norm(b1, 2)/np.linalg.norm(b0, 2)\n",
      "print error_x, error_b"
     ],
     "language": "python",
     "metadata": {},
     "outputs": [
      {
       "output_type": "stream",
       "stream": "stdout",
       "text": [
        "2000\n",
        "0.0031415871502"
       ]
      },
      {
       "output_type": "stream",
       "stream": "stdout",
       "text": [
        " 5.7330126371e-05\n"
       ]
      }
     ],
     "prompt_number": 53
    },
    {
     "cell_type": "code",
     "collapsed": false,
     "input": [
      "A = np.array([[1, 2], [2, 4.0001]])\n",
      "print A\n",
      "print np.linalg.cond(A, 2)\n",
      "print np.linalg.det(A)\n",
      "\n",
      "b0 = np.array([2, 4.0001])\n",
      "b1 = np.array([2, 4.0])\n",
      "\n",
      "x0 = np.linalg.solve(A, b0)\n",
      "print x0\n",
      "\n",
      "x1 = np.linalg.solve(A, b1)\n",
      "print x1\n",
      "\n",
      "#b = np"
     ],
     "language": "python",
     "metadata": {},
     "outputs": [
      {
       "output_type": "stream",
       "stream": "stdout",
       "text": [
        "[[ 1.      2.    ]\n",
        " [ 2.      4.0001]]\n",
        "250008.000097\n",
        "9.99999999998e-05\n",
        "[ 0.  1.]\n",
        "[ 2. -0.]\n"
       ]
      }
     ],
     "prompt_number": 8
    },
    {
     "cell_type": "code",
     "collapsed": false,
     "input": [
      "import scipy as scipy\n",
      "\n",
      "# Create a Hilbert matrix and print condition number\n",
      "A = scipy.linalg.hilbert(20)\n",
      "print np.linalg.cond(A, 2)\n",
      "\n",
      "# RHS vector\n",
      "b0 = np.ones(A.shape[0])\n",
      "\n",
      "# Perturbation of RHS\n",
      "b1 = 1.0e-6*np.random.rand(A.shape[0])\n",
      "\n",
      "# Perturbed RHS\n",
      "b  = b0 + b1  \n",
      "\n",
      "x0 = np.linalg.solve(A, b0)\n",
      "x  = np.linalg.solve(A, b)\n",
      "\n",
      "error_x = np.linalg.norm(x - x0, 2)/np.linalg.norm(x0, 2)\n",
      "error_b = np.linalg.norm(b1, 2)/np.linalg.norm(b0, 2)\n",
      "print error_x, error_b"
     ],
     "language": "python",
     "metadata": {},
     "outputs": [
      {
       "output_type": "stream",
       "stream": "stdout",
       "text": [
        "8.78581438683e+17\n",
        "47.3214502369 5.21570751668e-07\n"
       ]
      }
     ],
     "prompt_number": 54
    },
    {
     "cell_type": "code",
     "collapsed": false,
     "input": [],
     "language": "python",
     "metadata": {},
     "outputs": [],
     "prompt_number": 45
    },
    {
     "cell_type": "code",
     "collapsed": false,
     "input": [],
     "language": "python",
     "metadata": {},
     "outputs": []
    }
   ],
   "metadata": {}
  }
 ]
}